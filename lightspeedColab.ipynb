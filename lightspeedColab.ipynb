{
  "cells": [
    {
      "cell_type": "code",
      "execution_count": 1,
      "metadata": {
        "colab": {
          "base_uri": "https://localhost:8080/"
        },
        "id": "rCfRUu12732V",
        "outputId": "2d0650c0-26ce-479a-d7d1-008b066bd95e"
      },
      "outputs": [
        {
          "output_type": "stream",
          "name": "stdout",
          "text": [
            "Looking in indexes: https://pypi.org/simple, https://us-python.pkg.dev/colab-wheels/public/simple/\n",
            "Collecting openai\n",
            "  Downloading openai-0.27.8-py3-none-any.whl (73 kB)\n",
            "\u001b[2K     \u001b[90m━━━━━━━━━━━━━━━━━━━━━━━━━━━━━━━━━━━━━━━━\u001b[0m \u001b[32m73.6/73.6 kB\u001b[0m \u001b[31m3.0 MB/s\u001b[0m eta \u001b[36m0:00:00\u001b[0m\n",
            "\u001b[?25hRequirement already satisfied: requests>=2.20 in /usr/local/lib/python3.10/dist-packages (from openai) (2.27.1)\n",
            "Requirement already satisfied: tqdm in /usr/local/lib/python3.10/dist-packages (from openai) (4.65.0)\n",
            "Collecting aiohttp (from openai)\n",
            "  Downloading aiohttp-3.8.4-cp310-cp310-manylinux_2_17_x86_64.manylinux2014_x86_64.whl (1.0 MB)\n",
            "\u001b[2K     \u001b[90m━━━━━━━━━━━━━━━━━━━━━━━━━━━━━━━━━━━━━━━━\u001b[0m \u001b[32m1.0/1.0 MB\u001b[0m \u001b[31m20.0 MB/s\u001b[0m eta \u001b[36m0:00:00\u001b[0m\n",
            "\u001b[?25hRequirement already satisfied: urllib3<1.27,>=1.21.1 in /usr/local/lib/python3.10/dist-packages (from requests>=2.20->openai) (1.26.15)\n",
            "Requirement already satisfied: certifi>=2017.4.17 in /usr/local/lib/python3.10/dist-packages (from requests>=2.20->openai) (2022.12.7)\n",
            "Requirement already satisfied: charset-normalizer~=2.0.0 in /usr/local/lib/python3.10/dist-packages (from requests>=2.20->openai) (2.0.12)\n",
            "Requirement already satisfied: idna<4,>=2.5 in /usr/local/lib/python3.10/dist-packages (from requests>=2.20->openai) (3.4)\n",
            "Requirement already satisfied: attrs>=17.3.0 in /usr/local/lib/python3.10/dist-packages (from aiohttp->openai) (23.1.0)\n",
            "Collecting multidict<7.0,>=4.5 (from aiohttp->openai)\n",
            "  Downloading multidict-6.0.4-cp310-cp310-manylinux_2_17_x86_64.manylinux2014_x86_64.whl (114 kB)\n",
            "\u001b[2K     \u001b[90m━━━━━━━━━━━━━━━━━━━━━━━━━━━━━━━━━━━━━━\u001b[0m \u001b[32m114.5/114.5 kB\u001b[0m \u001b[31m10.5 MB/s\u001b[0m eta \u001b[36m0:00:00\u001b[0m\n",
            "\u001b[?25hCollecting async-timeout<5.0,>=4.0.0a3 (from aiohttp->openai)\n",
            "  Downloading async_timeout-4.0.2-py3-none-any.whl (5.8 kB)\n",
            "Collecting yarl<2.0,>=1.0 (from aiohttp->openai)\n",
            "  Downloading yarl-1.9.2-cp310-cp310-manylinux_2_17_x86_64.manylinux2014_x86_64.whl (268 kB)\n",
            "\u001b[2K     \u001b[90m━━━━━━━━━━━━━━━━━━━━━━━━━━━━━━━━━━━━━━\u001b[0m \u001b[32m268.8/268.8 kB\u001b[0m \u001b[31m20.2 MB/s\u001b[0m eta \u001b[36m0:00:00\u001b[0m\n",
            "\u001b[?25hCollecting frozenlist>=1.1.1 (from aiohttp->openai)\n",
            "  Downloading frozenlist-1.3.3-cp310-cp310-manylinux_2_5_x86_64.manylinux1_x86_64.manylinux_2_17_x86_64.manylinux2014_x86_64.whl (149 kB)\n",
            "\u001b[2K     \u001b[90m━━━━━━━━━━━━━━━━━━━━━━━━━━━━━━━━━━━━━━\u001b[0m \u001b[32m149.6/149.6 kB\u001b[0m \u001b[31m11.6 MB/s\u001b[0m eta \u001b[36m0:00:00\u001b[0m\n",
            "\u001b[?25hCollecting aiosignal>=1.1.2 (from aiohttp->openai)\n",
            "  Downloading aiosignal-1.3.1-py3-none-any.whl (7.6 kB)\n",
            "Installing collected packages: multidict, frozenlist, async-timeout, yarl, aiosignal, aiohttp, openai\n",
            "Successfully installed aiohttp-3.8.4 aiosignal-1.3.1 async-timeout-4.0.2 frozenlist-1.3.3 multidict-6.0.4 openai-0.27.8 yarl-1.9.2\n",
            "Looking in indexes: https://pypi.org/simple, https://us-python.pkg.dev/colab-wheels/public/simple/\n",
            "Collecting tiktoken\n",
            "  Downloading tiktoken-0.4.0-cp310-cp310-manylinux_2_17_x86_64.manylinux2014_x86_64.whl (1.7 MB)\n",
            "\u001b[2K     \u001b[90m━━━━━━━━━━━━━━━━━━━━━━━━━━━━━━━━━━━━━━━━\u001b[0m \u001b[32m1.7/1.7 MB\u001b[0m \u001b[31m20.6 MB/s\u001b[0m eta \u001b[36m0:00:00\u001b[0m\n",
            "\u001b[?25hRequirement already satisfied: regex>=2022.1.18 in /usr/local/lib/python3.10/dist-packages (from tiktoken) (2022.10.31)\n",
            "Requirement already satisfied: requests>=2.26.0 in /usr/local/lib/python3.10/dist-packages (from tiktoken) (2.27.1)\n",
            "Requirement already satisfied: urllib3<1.27,>=1.21.1 in /usr/local/lib/python3.10/dist-packages (from requests>=2.26.0->tiktoken) (1.26.15)\n",
            "Requirement already satisfied: certifi>=2017.4.17 in /usr/local/lib/python3.10/dist-packages (from requests>=2.26.0->tiktoken) (2022.12.7)\n",
            "Requirement already satisfied: charset-normalizer~=2.0.0 in /usr/local/lib/python3.10/dist-packages (from requests>=2.26.0->tiktoken) (2.0.12)\n",
            "Requirement already satisfied: idna<4,>=2.5 in /usr/local/lib/python3.10/dist-packages (from requests>=2.26.0->tiktoken) (3.4)\n",
            "Installing collected packages: tiktoken\n",
            "Successfully installed tiktoken-0.4.0\n"
          ]
        }
      ],
      "source": [
        "!pip install openai\n",
        "!pip install tiktoken"
      ],
      "id": "rCfRUu12732V"
    },
    {
      "cell_type": "code",
      "execution_count": 6,
      "metadata": {
        "id": "2c4RpJxo732X"
      },
      "outputs": [],
      "source": [
        "import os\n",
        "import openai\n",
        "from concurrent.futures import ThreadPoolExecutor, as_completed\n",
        "import tiktoken\n",
        "import logging\n",
        "from tqdm import tqdm\n",
        "import time\n",
        "import random\n",
        "logging.basicConfig(level=logging.INFO) # Setup the logging system\n",
        "# Paste in your OpenAI key here.\n",
        "openai.api_key = \"sk-.....\""
      ],
      "id": "2c4RpJxo732X"
    },
    {
      "cell_type": "code",
      "source": [
        "from multiprocessing import cpu_count\n",
        "\n",
        "cpu_count()"
      ],
      "metadata": {
        "colab": {
          "base_uri": "https://localhost:8080/"
        },
        "id": "yUwpwZRy81Jf",
        "outputId": "95094f43-859c-4884-d224-777c81ffcc0e"
      },
      "id": "yUwpwZRy81Jf",
      "execution_count": 1,
      "outputs": [
        {
          "output_type": "execute_result",
          "data": {
            "text/plain": [
              "2"
            ]
          },
          "metadata": {},
          "execution_count": 1
        }
      ]
    },
    {
      "cell_type": "code",
      "execution_count": 3,
      "metadata": {
        "id": "9S5tOGiI732X"
      },
      "outputs": [],
      "source": [
        "def load_text(file_path):\n",
        "    try:\n",
        "        with open(file_path, 'r') as file:\n",
        "            return file.read()\n",
        "    except Exception as e:\n",
        "        logging.error(f'Failed to load file {file_path}: {str(e)}')\n",
        "        raise\n",
        "def initialize_files(output_file, log_file):\n",
        "    try:\n",
        "        open(output_file, 'w').close()\n",
        "        open(log_file, 'w').close()\n",
        "    except Exception as e:\n",
        "        logging.error(f'Failed to initialize files {output_file}, {log_file}: {str(e)}')\n",
        "        raise\n",
        "def save_to_file(responses, output_file):\n",
        "    try:\n",
        "        with open(output_file, 'w') as file:\n",
        "            for response in responses:\n",
        "                file.write(response + '\\n')\n",
        "    except Exception as e:\n",
        "        logging.error(f'Failed to save to file {output_file}: {str(e)}')\n",
        "        raise\n",
        "def log_to_file(log_file, message):\n",
        "    try:\n",
        "        with open(log_file, 'a') as file:\n",
        "            file.write(message + '\\n')\n",
        "    except Exception as e:\n",
        "        logging.error(f'Failed to log to file {log_file}: {str(e)}')\n",
        "        raise\n",
        "def call_openai_api(chunk, model, max_tokens, temperature, prompt):\n",
        "    for i in range(3):\n",
        "        try:\n",
        "            response = openai.ChatCompletion.create(\n",
        "                model=model,\n",
        "                messages=[\n",
        "                    {'role': 'system', 'content': prompt},\n",
        "                    {'role': 'user', 'content': chunk},\n",
        "                ],\n",
        "                max_tokens=max_tokens,\n",
        "                n=1,\n",
        "                stop=None,\n",
        "                temperature=temperature,\n",
        "            )\n",
        "            return response.choices[0]['message']['content'].strip()\n",
        "        except openai.error.RateLimitError:\n",
        "            wait_time = (2 ** i) + random.random()\n",
        "            logging.warning(f'Rate limit exceeded. Retrying after {wait_time} seconds.')\n",
        "            time.sleep(wait_time)\n",
        "        except Exception as e:\n",
        "            logging.error(f'API call failed: {str(e)}')\n",
        "            return None\n",
        "    logging.error('Failed to call OpenAI API after multiple retries due to rate limiting.')\n",
        "    return None\n",
        "def split_into_chunks(text, model, tokens=1000):\n",
        "    encoding = tiktoken.encoding_for_model(model)\n",
        "    words = encoding.encode(text)\n",
        "    chunks = []\n",
        "    for i in range(0, len(words), tokens):\n",
        "        chunks.append(''.join(encoding.decode(words[i:i + tokens])))\n",
        "    return chunks"
      ],
      "id": "9S5tOGiI732X"
    },
    {
      "cell_type": "code",
      "execution_count": 4,
      "metadata": {
        "id": "Dp84iZ_u732Y"
      },
      "outputs": [],
      "source": [
        "def process_chunks(input_file, output_file, log_file, model, chunksize, max_tokens, temperature, prompt):\n",
        "    initialize_files(output_file, log_file)\n",
        "    text = load_text(input_file)\n",
        "    chunks = split_into_chunks(text, model, tokens=chunksize)\n",
        "    nCh = len(chunks)\n",
        "    print(str(nCh) + ' chunks.')\n",
        "    log_to_file(log_file, f'Number of chunks: {nCh}')\n",
        "    with ThreadPoolExecutor() as executor:\n",
        "        futures = {executor.submit(call_openai_api, chunk, model, max_tokens, temperature, prompt): chunk for chunk in chunks}\n",
        "        responses = []\n",
        "        for future in tqdm(as_completed(futures), total=len(futures), desc='Processing chunks'):\n",
        "            response = future.result()\n",
        "            if response is None:\n",
        "                log_to_file(log_file, f'Failed to process chunk {futures[future]}')\n",
        "            else:\n",
        "                responses.append(response)\n",
        "                log_to_file(log_file, f'Successfully processed chunk!')\n",
        "    save_to_file(responses, output_file)"
      ],
      "id": "Dp84iZ_u732Y"
    },
    {
      "cell_type": "markdown",
      "source": [
        "Upload an input file to Colab through the left sidebar panel."
      ],
      "metadata": {
        "id": "20NadfJZ8FVo"
      },
      "id": "20NadfJZ8FVo"
    },
    {
      "cell_type": "code",
      "execution_count": 5,
      "metadata": {
        "colab": {
          "base_uri": "https://localhost:8080/"
        },
        "id": "3c_zbTYI732Y",
        "outputId": "a70fa3e3-f78c-4f0f-f55a-8d66c1e6917c"
      },
      "outputs": [
        {
          "output_type": "stream",
          "name": "stdout",
          "text": [
            "193 chunks.\n"
          ]
        },
        {
          "output_type": "stream",
          "name": "stderr",
          "text": [
            "Processing chunks:  65%|██████▌   | 126/193 [01:35<00:50,  1.33it/s]WARNING:root:Rate limit exceeded. Retrying after 1.93600391223378 seconds.\n",
            "Processing chunks:  97%|█████████▋| 187/193 [02:24<00:04,  1.35it/s]WARNING:root:Rate limit exceeded. Retrying after 1.6341658281074949 seconds.\n",
            "Processing chunks: 100%|██████████| 193/193 [02:31<00:00,  1.27it/s]\n"
          ]
        }
      ],
      "source": [
        "input_file = 'input.txt'\n",
        "output_file = 'output.txt'\n",
        "log_file = 'log.txt'\n",
        "model = 'gpt-3.5-turbo-0301' # Can also use gpt-4-0314\n",
        "chunksize = 100 # This shouldn't be too large (>4000) or OpenAI will be overloaded. A safe size is under 3000 tokens. Your prompt length also counts for the OpenAI token limit.\n",
        "tokens = 100 # shorter will be faster. but could terminate too early.\n",
        "temperature = 0.0 # 0.0 is probably best if you are going for highest accuracy\n",
        "prompt = 'You are an expert Italian English translator. Translate the text to Italian.' # Instructions for GPT. This counts into the 4k token limit.\n",
        "process_chunks(input_file, output_file, log_file, model, chunksize, tokens, temperature, prompt)"
      ],
      "id": "3c_zbTYI732Y"
    }
  ],
  "metadata": {
    "kernelspec": {
      "display_name": "Python 3",
      "name": "python3"
    },
    "language_info": {
      "codemirror_mode": {
        "name": "ipython",
        "version": 3
      },
      "file_extension": ".py",
      "mimetype": "text/x-python",
      "name": "python",
      "nbconvert_exporter": "python",
      "pygments_lexer": "ipython3",
      "version": "3.8.8"
    },
    "colab": {
      "provenance": []
    },
    "accelerator": "TPU"
  },
  "nbformat": 4,
  "nbformat_minor": 5
}